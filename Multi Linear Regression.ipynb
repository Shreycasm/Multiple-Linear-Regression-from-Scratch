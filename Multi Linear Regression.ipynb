{
 "cells": [
  {
   "cell_type": "markdown",
   "id": "75c5e919",
   "metadata": {},
   "source": [
    "In this notebook i'll use Boston house pricing dataset to do Linear Regression. First i'll use sklearn's inbuilt Linear Regresion Algorithm and then make my own Linear Regression from scratch Using Ordinal least Square and comapre the results"
   ]
  },
  {
   "cell_type": "code",
   "execution_count": 1,
   "id": "48e1b54d",
   "metadata": {},
   "outputs": [],
   "source": [
    "import pandas as pd\n",
    "import numpy as np\n",
    "from sklearn.model_selection import train_test_split\n",
    "from sklearn.linear_model import LinearRegression\n",
    "from sklearn.datasets import fetch_openml\n",
    "from sklearn.metrics import mean_squared_error\n",
    "import matplotlib.pyplot as plt\n",
    "import seaborn as sns"
   ]
  },
  {
   "cell_type": "code",
   "execution_count": 2,
   "id": "0de3a10c",
   "metadata": {},
   "outputs": [
    {
     "name": "stderr",
     "output_type": "stream",
     "text": [
      "C:\\Users\\shrey\\AppData\\Local\\anaconda3\\Lib\\site-packages\\sklearn\\datasets\\_openml.py:303: UserWarning: Multiple active versions of the dataset matching the name boston exist. Versions may be fundamentally different, returning version 1.\n",
      "  warn(\n",
      "C:\\Users\\shrey\\AppData\\Local\\anaconda3\\Lib\\site-packages\\sklearn\\datasets\\_openml.py:1002: FutureWarning: The default value of `parser` will change from `'liac-arff'` to `'auto'` in 1.4. You can set `parser='auto'` to silence this warning. Therefore, an `ImportError` will be raised from 1.4 if the dataset is dense and pandas is not installed. Note that the pandas parser may return different data types. See the Notes Section in fetch_openml's API doc for details.\n",
      "  warn(\n"
     ]
    }
   ],
   "source": [
    "data = fetch_openml(name='boston')\n",
    "values = data.data\n",
    "columns = data.feature_names\n",
    "target = data.target\n",
    "df = pd.concat([pd.DataFrame(values, columns=columns), pd.Series(target, name=\"target\")], axis=1)"
   ]
  },
  {
   "cell_type": "markdown",
   "id": "68d9da40",
   "metadata": {},
   "source": [
    "# Using Sklearn's Implementation"
   ]
  },
  {
   "cell_type": "code",
   "execution_count": 18,
   "id": "34c3cdd0",
   "metadata": {},
   "outputs": [],
   "source": [
    "X_train, X_test, y_train, y_test = train_test_split(values , target, test_size=0.2, random_state=0)"
   ]
  },
  {
   "cell_type": "code",
   "execution_count": 19,
   "id": "f49174d7",
   "metadata": {},
   "outputs": [],
   "source": [
    "X_test[\"RAD\"] = X_test[\"RAD\"].apply( lambda x : int(x))"
   ]
  },
  {
   "cell_type": "code",
   "execution_count": 20,
   "id": "fa8a5c0f",
   "metadata": {},
   "outputs": [],
   "source": [
    "X_test[\"CHAS\"] = X_test[\"CHAS\"].apply( lambda x : int(x))"
   ]
  },
  {
   "cell_type": "code",
   "execution_count": 21,
   "id": "55dfdbef",
   "metadata": {},
   "outputs": [
    {
     "name": "stdout",
     "output_type": "stream",
     "text": [
      "Coefficient of given model is: [-1.19443447e-01  4.47799511e-02  5.48526168e-03  2.34080361e+00\n",
      " -1.61236043e+01  3.70870901e+00 -3.12108178e-03 -1.38639737e+00\n",
      "  2.44178327e-01 -1.09896366e-02 -1.04592119e+00  8.11010693e-03\n",
      " -4.92792725e-01]\n",
      "Inpercept of given model is: 38.09169492630233\n",
      "Mean Square Error: 33.44897999767632 \n"
     ]
    }
   ],
   "source": [
    "linear_regression = LinearRegression()\n",
    "linear_regression.fit(X_train, y_train)\n",
    "pred = linear_regression.predict(X_test)\n",
    "print(f\"Coefficient of given model is: {linear_regression.coef_}\")\n",
    "print(f\"Inpercept of given model is: {linear_regression.intercept_}\")\n",
    "print(f\"Mean Square Error: {mean_squared_error(y_test, pred)} \")"
   ]
  },
  {
   "cell_type": "markdown",
   "id": "a6b8ea46",
   "metadata": {},
   "source": [
    "# Using Self made code"
   ]
  },
  {
   "cell_type": "code",
   "execution_count": 22,
   "id": "1de06873",
   "metadata": {},
   "outputs": [],
   "source": [
    "import numpy as np\n",
    "\n",
    "class SelfMadeLinearRegression:\n",
    "    \n",
    "    def __init__(self):\n",
    "        self.intercept_ = None\n",
    "        self.coef_ = None\n",
    "        \n",
    "    def fit(self, X_train, y_train):\n",
    "        X_train = np.insert(X_train, 0, 1, axis=1)\n",
    "    \n",
    "        betas = np.linalg.inv(X_train.T.dot(X_train)).dot(X_train.T).dot(y_train)\n",
    "        \n",
    "        self.intercept_ = betas[0]\n",
    "        self.coef_ = betas[1:]\n",
    "        \n",
    "    def predict(self, X_test):\n",
    "        X_test = np.insert(X_test, 0, 1, axis=1)\n",
    "        \n",
    "        pred_values = X_test.dot(self.coef_) + self.intercept_\n",
    "        return pred_values\n"
   ]
  },
  {
   "cell_type": "code",
   "execution_count": 23,
   "id": "1ca8af00",
   "metadata": {},
   "outputs": [
    {
     "name": "stdout",
     "output_type": "stream",
     "text": [
      "Coefficient of given model is: [-1.19443447e-01  4.47799511e-02  5.48526168e-03  2.34080361e+00\n",
      " -1.61236043e+01  3.70870901e+00 -3.12108178e-03 -1.38639737e+00\n",
      "  2.44178327e-01 -1.09896366e-02 -1.04592119e+00  8.11010693e-03\n",
      " -4.92792725e-01]\n",
      "Inpercept of given model is: 38.09169492630233\n",
      "Mean Square Error: 33.44897999767632 \n"
     ]
    }
   ],
   "source": [
    "linear_regression_ = LinearRegression()\n",
    "linear_regression_.fit(X_train, y_train)\n",
    "pred_ = linear_regression_.predict(X_test)\n",
    "print(f\"Coefficient of given model is: {linear_regression_.coef_}\")\n",
    "print(f\"Inpercept of given model is: {linear_regression_.intercept_}\")\n",
    "print(f\"Mean Square Error: {mean_squared_error(y_test, pred_)} \")"
   ]
  },
  {
   "cell_type": "code",
   "execution_count": null,
   "id": "90fc2998",
   "metadata": {},
   "outputs": [],
   "source": []
  }
 ],
 "metadata": {
  "kernelspec": {
   "display_name": "Python 3 (ipykernel)",
   "language": "python",
   "name": "python3"
  },
  "language_info": {
   "codemirror_mode": {
    "name": "ipython",
    "version": 3
   },
   "file_extension": ".py",
   "mimetype": "text/x-python",
   "name": "python",
   "nbconvert_exporter": "python",
   "pygments_lexer": "ipython3",
   "version": "3.11.5"
  }
 },
 "nbformat": 4,
 "nbformat_minor": 5
}
