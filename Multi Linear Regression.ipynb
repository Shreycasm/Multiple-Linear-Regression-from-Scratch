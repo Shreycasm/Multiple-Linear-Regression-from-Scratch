{
 "cells": [
  {
   "cell_type": "markdown",
   "id": "4543fb59",
   "metadata": {},
   "source": [
    "In this notebook i'll use Boston house pricing dataset to do Linear Regression. First i'll use sklearn's inbuilt Linear Regresion Algorithm and then make my own Linear Regression from scratch Using Ordinal least Square and comapre the results"
   ]
  },
  {
   "cell_type": "code",
   "execution_count": 1,
   "id": "a2896d58",
   "metadata": {
    "ExecuteTime": {
     "end_time": "2024-03-13T10:00:19.825840Z",
     "start_time": "2024-03-13T10:00:15.995747Z"
    }
   },
   "outputs": [],
   "source": [
    "import pandas as pd\n",
    "import numpy as np\n",
    "from sklearn.model_selection import train_test_split\n",
    "from sklearn.linear_model import LinearRegression\n",
    "from sklearn.datasets import fetch_openml\n",
    "from sklearn.metrics import mean_squared_error\n",
    "import matplotlib.pyplot as plt\n",
    "import seaborn as sns"
   ]
  },
  {
   "cell_type": "code",
   "execution_count": 2,
   "id": "5765a1f1",
   "metadata": {
    "ExecuteTime": {
     "end_time": "2024-03-13T10:00:19.869605Z",
     "start_time": "2024-03-13T10:00:19.829847Z"
    }
   },
   "outputs": [
    {
     "name": "stderr",
     "output_type": "stream",
     "text": [
      "C:\\Users\\shrey\\AppData\\Local\\anaconda3\\Lib\\site-packages\\sklearn\\datasets\\_openml.py:303: UserWarning: Multiple active versions of the dataset matching the name boston exist. Versions may be fundamentally different, returning version 1.\n",
      "  warn(\n",
      "C:\\Users\\shrey\\AppData\\Local\\anaconda3\\Lib\\site-packages\\sklearn\\datasets\\_openml.py:1002: FutureWarning: The default value of `parser` will change from `'liac-arff'` to `'auto'` in 1.4. You can set `parser='auto'` to silence this warning. Therefore, an `ImportError` will be raised from 1.4 if the dataset is dense and pandas is not installed. Note that the pandas parser may return different data types. See the Notes Section in fetch_openml's API doc for details.\n",
      "  warn(\n"
     ]
    }
   ],
   "source": [
    "data = fetch_openml(name='boston')\n",
    "values = data.data\n",
    "columns = data.feature_names\n",
    "target = data.target\n",
    "df = pd.concat([pd.DataFrame(values, columns=columns), pd.Series(target, name=\"target\")], axis=1)"
   ]
  },
  {
   "cell_type": "markdown",
   "id": "b692f451",
   "metadata": {},
   "source": [
    "# Using Sklearn's Implementation"
   ]
  },
  {
   "cell_type": "code",
   "execution_count": 3,
   "id": "9dbee471",
   "metadata": {
    "ExecuteTime": {
     "end_time": "2024-03-13T10:00:19.882880Z",
     "start_time": "2024-03-13T10:00:19.871617Z"
    }
   },
   "outputs": [
    {
     "name": "stdout",
     "output_type": "stream",
     "text": [
      "<class 'pandas.core.frame.DataFrame'>\n",
      "RangeIndex: 506 entries, 0 to 505\n",
      "Data columns (total 13 columns):\n",
      " #   Column   Non-Null Count  Dtype   \n",
      "---  ------   --------------  -----   \n",
      " 0   CRIM     506 non-null    float64 \n",
      " 1   ZN       506 non-null    float64 \n",
      " 2   INDUS    506 non-null    float64 \n",
      " 3   CHAS     506 non-null    category\n",
      " 4   NOX      506 non-null    float64 \n",
      " 5   RM       506 non-null    float64 \n",
      " 6   AGE      506 non-null    float64 \n",
      " 7   DIS      506 non-null    float64 \n",
      " 8   RAD      506 non-null    category\n",
      " 9   TAX      506 non-null    float64 \n",
      " 10  PTRATIO  506 non-null    float64 \n",
      " 11  B        506 non-null    float64 \n",
      " 12  LSTAT    506 non-null    float64 \n",
      "dtypes: category(2), float64(11)\n",
      "memory usage: 45.1 KB\n"
     ]
    }
   ],
   "source": [
    "values.info()"
   ]
  },
  {
   "cell_type": "code",
   "execution_count": 4,
   "id": "33526ae3",
   "metadata": {
    "ExecuteTime": {
     "end_time": "2024-03-13T10:00:19.893571Z",
     "start_time": "2024-03-13T10:00:19.885910Z"
    }
   },
   "outputs": [],
   "source": [
    "values.loc[:, \"RAD\"] = values[\"RAD\"].astype(int)\n"
   ]
  },
  {
   "cell_type": "code",
   "execution_count": 5,
   "id": "96f04291",
   "metadata": {
    "ExecuteTime": {
     "end_time": "2024-03-13T10:00:19.902155Z",
     "start_time": "2024-03-13T10:00:19.896580Z"
    }
   },
   "outputs": [
    {
     "name": "stderr",
     "output_type": "stream",
     "text": [
      "C:\\Users\\shrey\\AppData\\Local\\Temp\\ipykernel_11260\\3609793801.py:1: SettingWithCopyWarning: \n",
      "A value is trying to be set on a copy of a slice from a DataFrame.\n",
      "Try using .loc[row_indexer,col_indexer] = value instead\n",
      "\n",
      "See the caveats in the documentation: https://pandas.pydata.org/pandas-docs/stable/user_guide/indexing.html#returning-a-view-versus-a-copy\n",
      "  values[\"CHAS\"] = values[\"CHAS\"].astype(int)\n"
     ]
    }
   ],
   "source": [
    "values[\"CHAS\"] = values[\"CHAS\"].astype(int)\n"
   ]
  },
  {
   "cell_type": "code",
   "execution_count": 6,
   "id": "792b0be8",
   "metadata": {
    "ExecuteTime": {
     "end_time": "2024-03-13T10:00:19.912735Z",
     "start_time": "2024-03-13T10:00:19.904164Z"
    }
   },
   "outputs": [],
   "source": [
    "X_train, X_test, y_train, y_test = train_test_split(values , target, test_size=0.2, random_state=0)"
   ]
  },
  {
   "cell_type": "code",
   "execution_count": 7,
   "id": "3aab3d67",
   "metadata": {
    "ExecuteTime": {
     "end_time": "2024-03-13T10:00:19.970405Z",
     "start_time": "2024-03-13T10:00:19.913741Z"
    }
   },
   "outputs": [
    {
     "name": "stdout",
     "output_type": "stream",
     "text": [
      "Coefficient of given model is: [-1.19443447e-01  4.47799511e-02  5.48526168e-03  2.34080361e+00\n",
      " -1.61236043e+01  3.70870901e+00 -3.12108178e-03 -1.38639737e+00\n",
      "  2.44178327e-01 -1.09896366e-02 -1.04592119e+00  8.11010693e-03\n",
      " -4.92792725e-01]\n",
      "Inpercept of given model is: 38.09169492630233\n",
      "Mean Square Error: 33.44897999767632 \n"
     ]
    }
   ],
   "source": [
    "linear_regression = LinearRegression()\n",
    "linear_regression.fit(X_train, y_train)\n",
    "pred = linear_regression.predict(X_test)\n",
    "print(f\"Coefficient of given model is: {linear_regression.coef_}\")\n",
    "print(f\"Inpercept of given model is: {linear_regression.intercept_}\")\n",
    "print(f\"Mean Square Error: {mean_squared_error(y_test, pred)} \")"
   ]
  },
  {
   "cell_type": "markdown",
   "id": "4484bcbc",
   "metadata": {},
   "source": [
    "# Using Self made code"
   ]
  },
  {
   "cell_type": "code",
   "execution_count": 8,
   "id": "54ccca7c",
   "metadata": {
    "ExecuteTime": {
     "end_time": "2024-03-13T10:00:19.981473Z",
     "start_time": "2024-03-13T10:00:19.974411Z"
    }
   },
   "outputs": [],
   "source": [
    "class SelfMadeLinearRegression:\n",
    "    \n",
    "    def __init__(self):\n",
    "        self.intercept_ = None\n",
    "        self.coef_ = None\n",
    "        \n",
    "    def fit(self, X_train, y_train):\n",
    "        X_train = np.insert(X_train, 0, 1, axis=1)\n",
    "    \n",
    "        betas = np.linalg.inv(np.dot(X_train.T, X_train)).dot(X_train.T).dot(y_train)\n",
    "        \n",
    "        self.intercept_ = betas[0]\n",
    "        self.coef_ = betas[1:]\n",
    "        \n",
    "    def predict(self, X_test):\n",
    "        \n",
    "        pred_values = np.dot(X_test, self.coef_) + self.intercept_\n",
    "        return pred_values\n"
   ]
  },
  {
   "cell_type": "code",
   "execution_count": 9,
   "id": "6e86c25f",
   "metadata": {
    "ExecuteTime": {
     "end_time": "2024-03-13T10:00:19.992369Z",
     "start_time": "2024-03-13T10:00:19.983482Z"
    }
   },
   "outputs": [
    {
     "name": "stdout",
     "output_type": "stream",
     "text": [
      "Coefficient of given model is: [-1.19443447e-01  4.47799511e-02  5.48526168e-03  2.34080361e+00\n",
      " -1.61236043e+01  3.70870901e+00 -3.12108178e-03 -1.38639737e+00\n",
      "  2.44178327e-01 -1.09896366e-02 -1.04592119e+00  8.11010693e-03\n",
      " -4.92792725e-01]\n",
      "Inpercept of given model is: 38.091694926284234\n",
      "Mean Square Error: 33.44897999767616 \n"
     ]
    }
   ],
   "source": [
    "linear_regression_ = SelfMadeLinearRegression()\n",
    "linear_regression_.fit(X_train, y_train)\n",
    "pred_ = linear_regression_.predict(X_test)\n",
    "print(f\"Coefficient of given model is: {linear_regression_.coef_}\")\n",
    "print(f\"Inpercept of given model is: {linear_regression_.intercept_}\")\n",
    "print(f\"Mean Square Error: {mean_squared_error(y_test, pred_)} \")"
   ]
  },
  {
   "cell_type": "code",
   "execution_count": null,
   "id": "5530d631",
   "metadata": {},
   "outputs": [],
   "source": []
  }
 ],
 "metadata": {
  "kernelspec": {
   "display_name": "Python 3 (ipykernel)",
   "language": "python",
   "name": "python3"
  },
  "language_info": {
   "codemirror_mode": {
    "name": "ipython",
    "version": 3
   },
   "file_extension": ".py",
   "mimetype": "text/x-python",
   "name": "python",
   "nbconvert_exporter": "python",
   "pygments_lexer": "ipython3",
   "version": "3.11.5"
  },
  "toc": {
   "base_numbering": 1,
   "nav_menu": {},
   "number_sections": true,
   "sideBar": true,
   "skip_h1_title": false,
   "title_cell": "Table of Contents",
   "title_sidebar": "Contents",
   "toc_cell": false,
   "toc_position": {},
   "toc_section_display": true,
   "toc_window_display": false
  },
  "varInspector": {
   "cols": {
    "lenName": 16,
    "lenType": 16,
    "lenVar": 40
   },
   "kernels_config": {
    "python": {
     "delete_cmd_postfix": "",
     "delete_cmd_prefix": "del ",
     "library": "var_list.py",
     "varRefreshCmd": "print(var_dic_list())"
    },
    "r": {
     "delete_cmd_postfix": ") ",
     "delete_cmd_prefix": "rm(",
     "library": "var_list.r",
     "varRefreshCmd": "cat(var_dic_list()) "
    }
   },
   "types_to_exclude": [
    "module",
    "function",
    "builtin_function_or_method",
    "instance",
    "_Feature"
   ],
   "window_display": false
  }
 },
 "nbformat": 4,
 "nbformat_minor": 5
}
